{
  "nbformat": 4,
  "nbformat_minor": 0,
  "metadata": {
    "colab": {
      "provenance": []
    },
    "kernelspec": {
      "name": "python3",
      "display_name": "Python 3"
    },
    "language_info": {
      "name": "python"
    }
  },
  "cells": [
    {
      "cell_type": "markdown",
      "source": [
        "# **응급상황 자동 인식 및 응급실 연계 서비스**\n",
        "# **단계4 : 통합-모듈화**"
      ],
      "metadata": {
        "id": "4p06IPOk5xil"
      }
    },
    {
      "cell_type": "markdown",
      "source": [
        "## **0.미션**\n",
        "\n",
        "단계 4에서는, 단계1,2,3 에서 생성한 함수들을 모듈화하고, 단위 테스트 및 파이프라인 코드를 작성합니다."
      ],
      "metadata": {
        "id": "HRuiqkZnuq94"
      }
    },
    {
      "cell_type": "markdown",
      "source": [
        "* **미션6**\n",
        "    * Python 코드 모듈화\n",
        "        * 각 모듈 코드 및 모델, 데이터파일을 일관성 있게 정리\n",
        "        * .py 파일 생성 ==> 라이브러리 로딩, 각 task를 위한 함수 생성\n"
      ],
      "metadata": {
        "id": "B-RC4OGVuq9-"
      }
    },
    {
      "cell_type": "markdown",
      "source": [
        "## **1.환경설정**"
      ],
      "metadata": {
        "id": "76Pw6f64d5VU"
      }
    },
    {
      "cell_type": "markdown",
      "source": [
        "* 경로 설정\n",
        "\n",
        "구글 드라이브 연결"
      ],
      "metadata": {
        "id": "1is0ZmzXeBrA"
      }
    },
    {
      "cell_type": "code",
      "source": [
        "from google.colab import drive\n",
        "drive.mount('/content/drive')"
      ],
      "metadata": {
        "id": "kOfI9W-Kc8eF",
        "colab": {
          "base_uri": "https://localhost:8080/"
        },
        "outputId": "e739440d-b2ba-4968-90da-f707201df901"
      },
      "execution_count": 1,
      "outputs": [
        {
          "output_type": "stream",
          "name": "stdout",
          "text": [
            "Drive already mounted at /content/drive; to attempt to forcibly remount, call drive.mount(\"/content/drive\", force_remount=True).\n"
          ]
        }
      ]
    },
    {
      "cell_type": "code",
      "source": [
        "path = '/content/drive/MyDrive/project6_2/'"
      ],
      "metadata": {
        "id": "JhVujnYp4TJe"
      },
      "execution_count": 2,
      "outputs": []
    },
    {
      "cell_type": "markdown",
      "source": [
        "## 2.모듈 구성하기"
      ],
      "metadata": {
        "id": "9U7SbaB7cSSx"
      }
    },
    {
      "cell_type": "code",
      "source": [
        "%%writefile /content/drive/MyDrive/project6_2/emergency.py\n",
        "\n",
        "import os\n",
        "import requests\n",
        "import xml.etree.ElementTree as ET\n",
        "import pandas as pd\n",
        "import openai\n",
        "from openai import OpenAI\n",
        "import json\n",
        "import torch\n",
        "\n",
        "from transformers import AutoModelForSequenceClassification, AutoTokenizer\n",
        "\"\"\"\n",
        "\n",
        "필요한 파일들은 모두 project6_2폴더\n",
        "바로 아래에 있다고 가정\n",
        "\n",
        "\"\"\"\n",
        "\n",
        "# 0. load key file------------------\n",
        "def load_key_file (path):\n",
        "    \"\"\"\n",
        "    파일 경로에서 GPT API 키를 로드하고 환경 변수에 설정,\n",
        "    txt파일에서 NAVER MAP API 키 로드\n",
        "\n",
        "    \"\"\"\n",
        "    try:\n",
        "        # GPT API\n",
        "        filepath1 = path + 'api_key.txt'\n",
        "        with open(filepath1, 'r') as file:\n",
        "            api_key = file.readline().strip()\n",
        "\n",
        "        # OpenAI 및 환경 변수 설정\n",
        "        openai.api_key = api_key\n",
        "        os.environ['OPENAI_API_KEY'] = api_key\n",
        "\n",
        "\n",
        "        # NAVER MAP API\n",
        "        filepath2 = path + 'map_key.txt'\n",
        "\n",
        "        with open(filepath2, 'r') as file:\n",
        "            data = json.loads(file.readline().strip())\n",
        "\n",
        "        c_id = data['c_id']\n",
        "        c_key = data['c_key']\n",
        "\n",
        "        # api 이용에 필요한 값 리턴\n",
        "        # api_key는 키값 확인용 사용 X\n",
        "        return api_key, c_id, c_key\n",
        "\n",
        "    except FileNotFoundError:\n",
        "        raise FileNotFoundError(f\"파일을 찾을 수 없습니다: {filepath1}\")\n",
        "    except Exception as e:\n",
        "        raise RuntimeError(f\"API 키 로드 중 에러 발생: {str(e)}\")\n",
        "\n",
        "# 1-1 audio2text--------------------\n",
        "def audio2text(path, filename):\n",
        "    \"\"\"\n",
        "    기본경로, 파일이름을 받아 텍스트로 반환,\n",
        "    만약, 코드로 음성을 수집할 시 수정필\n",
        "\n",
        "    \"\"\"\n",
        "    try:\n",
        "        # OpenAI 클라이언트 생성\n",
        "        client = OpenAI()\n",
        "\n",
        "        # 오디오 파일을 읽어서, 위스퍼를 사용한 변환\n",
        "        audio_file = open(path+filename, 'rb')\n",
        "\n",
        "        text = client.audio.transcriptions.create(\n",
        "            file=audio_file,\n",
        "            model='whisper-1',\n",
        "            language='ko',\n",
        "            response_format='text'\n",
        "        )\n",
        "\n",
        "        return text\n",
        "\n",
        "    except Exception as e:\n",
        "        return f'text 변환 실패: {str(e)}'\n",
        "\n",
        "\n",
        "# 1-2 text2summary------------------\n",
        "def text_summary(input_text):\n",
        "    \"\"\"\n",
        "    input_text에서 핵심을 요약해서 리턴\n",
        "\n",
        "    \"\"\"\n",
        "\n",
        "    client = OpenAI()\n",
        "\n",
        "    system_role = '''이 상황을 단어로 요약하고 응급실 단어 제외해\n",
        "    '''\n",
        "\n",
        "    try:\n",
        "        response = client.chat.completions.create(\n",
        "            model=\"gpt-3.5-turbo\",\n",
        "            messages=[\n",
        "                {\"role\": \"system\", \"content\": system_role},\n",
        "                {\"role\": \"user\", \"content\": input_text}\n",
        "            ]\n",
        "        )\n",
        "\n",
        "        answer = response.choices[0].message.content\n",
        "        return answer\n",
        "\n",
        "    except Exception as e:\n",
        "        return f'요약 실패: {str(e)}'\n",
        "\n",
        "\n",
        "# 2-1. model prediction------------------\n",
        "def model_prediction(path):\n",
        "    \"\"\"\n",
        "    model, tokenizer 리턴\n",
        "    \"\"\"\n",
        "    try:\n",
        "        save_directory = path + \"fine_tuned_bert\"\n",
        "\n",
        "        model = AutoModelForSequenceClassification.from_pretrained(save_directory)\n",
        "        tokenizer = AutoTokenizer.from_pretrained(save_directory)\n",
        "\n",
        "        return model, tokenizer\n",
        "\n",
        "    except Exception as e:\n",
        "      return f'모델 로드 실패: {str(e)}'\n",
        "\n",
        "\n",
        "# 2-2. 데이터 예측 함수------------------\n",
        "def predict(text, model, tokenizer):\n",
        "    # 입력 문장 토크나이징\n",
        "    inputs = tokenizer(text, return_tensors=\"pt\", truncation=True, padding=True)\n",
        "    inputs = {key: value for key, value in inputs.items()}  # 각 텐서를 GPU로 이동\n",
        "\n",
        "    # 모델 예측\n",
        "    with torch.no_grad():\n",
        "        outputs = model(**inputs)\n",
        "\n",
        "    # 로짓을 소프트맥스로 변환하여 확률 계산\n",
        "    logits = outputs.logits\n",
        "    probabilities = logits.softmax(dim=1)\n",
        "\n",
        "    # 가장 높은 확률을 가진 클래스 선택\n",
        "    pred = torch.argmax(probabilities, dim=-1).item()\n",
        "\n",
        "    return pred, probabilities\n",
        "\n",
        "\n",
        "# 3-1. get_distance------------------\n",
        "def get_dist(start_lat, start_lng, dest_lat, dest_lng, c_id, c_key):\n",
        "    \"\"\"\n",
        "    사용자의 시작지점 (위도, 경도), 목적지점(위도, 경도)\n",
        "    NAVER MAP 관련 키 아이디, 키 값\n",
        "\n",
        "    \"\"\"\n",
        "\n",
        "    url = \"https://naveropenapi.apigw.ntruss.com/map-direction/v1/driving\"\n",
        "    headers = {\n",
        "        \"X-NCP-APIGW-API-KEY-ID\": c_id,\n",
        "        \"X-NCP-APIGW-API-KEY\": c_key,\n",
        "    }\n",
        "    params = {\n",
        "        \"start\": f\"{start_lng},{start_lat}\",  # 출발지 (경도, 위도)\n",
        "        \"goal\": f\"{dest_lng},{dest_lat}\",    # 목적지 (경도, 위도)\n",
        "        \"option\": \"trafast\"  # 실시간 빠른 길 옵션\n",
        "    }\n",
        "\n",
        "    # 요청하고, 답변 받아오기\n",
        "    response = requests.get(url, headers=headers, params=params)\n",
        "\n",
        "    # JSON 응답 파싱\n",
        "    if response.status_code == 200:\n",
        "        data = response.json()\n",
        "        try:\n",
        "            # 데이터에서 거리 추출\n",
        "            dist = data['route']['trafast'][0]['summary']['distance']  # m(미터)\n",
        "            return dist\n",
        "        except KeyError as e:\n",
        "            print(f\"KeyError: Missing key {e}\")\n",
        "            return None\n",
        "        except ValueError as e:\n",
        "            print(f\"ValueError: {e}\")\n",
        "            return None\n",
        "    else:\n",
        "        print(f\"Request failed with status code: {response.status_code}\")\n",
        "        return None\n",
        "\n",
        "\n",
        "# 3-2. recommendation------------------\n",
        "def recommendation(start_lat, start_lng, df, c_id, c_key, predicted_class):\n",
        "    \"\"\"\n",
        "    사용자의 시작지점 (위도, 경도),\n",
        "\n",
        "    df는 응급실 정보 데이터프레임,\n",
        "\n",
        "    데이터프레임에 따라 df['위도'], df['경도'] 등 컬럼명 변경필요\n",
        "\n",
        "    >> df = pd.read_csv(path+'응급실 정보.csv')\n",
        "\n",
        "    get_dist를 위한 NAVER MAP 관련 키 아이디, 키 값\n",
        "\n",
        "    웹 서비스를 위해서 df2 리턴\n",
        "\n",
        "    \"\"\"\n",
        "\n",
        "    my_location = (start_lat, start_lng)\n",
        "    limit = 0.005        # 범위 지정, 위도, 경도 각 각 0.005씩 +- 해서 지정\n",
        "    emergency_count = 0  # 응급실 개수\n",
        "    output_count = 3     # 출력할 개수\n",
        "\n",
        "    while emergency_count < output_count:\n",
        "        # 현재 limit 값으로 범위 내 병원들 선택\n",
        "        df2 = df.loc[ ((start_lat - limit <= df['위도']) & (df['위도'] <= start_lat + limit)) &\n",
        "                      ((start_lng - limit <= df['경도']) & (df['경도'] <= start_lng + limit)) ]\n",
        "\n",
        "        # predicted_class에 따른 응급의료기관 종류 필터링\n",
        "        if predicted_class in [0]:\n",
        "            df2 = df2[df2['응급의료기관 종류'] == '권역응급의료센터']\n",
        "        elif predicted_class in [1]:\n",
        "            df2 = df2[df2['응급의료기관 종류'].isin(['권역응급의료센터', '지역응급의료센터'])]\n",
        "        elif predicted_class in [2]:\n",
        "            df2 = df2[df2['응급의료기관 종류'] == '지역응급의료센터']\n",
        "        else:\n",
        "            df2 = df2[df2['응급의료기관 종류'].isin(['지역응급의료기관', '응급실운영신고기관'])]\n",
        "\n",
        "        emergency_count = len(df2)  # 범위 내 병원 개수 계산\n",
        "\n",
        "        # 병원 개수가 3개 미만일 경우 범위 늘리기\n",
        "        if emergency_count < output_count:\n",
        "            limit += 0.005  # 범위를 0.1씩 증가시킴\n",
        "\n",
        "    dsts = []\n",
        "\n",
        "    for index, row in df2.iterrows():\n",
        "        dst = get_dist(start_lat, start_lng, row['위도'], row['경도'], c_id, c_key)\n",
        "        dsts.append(dst)\n",
        "\n",
        "    df2.loc[:, '거리'] = dsts\n",
        "    df2.sort_values(by='거리', inplace=True)\n",
        "    df2.reset_index(drop=True, inplace=True)\n",
        "\n",
        "    # print(\"\\n\".join(df2.iloc[:output_count]['병원이름'].values))\n",
        "    print(\"\\n\".join(df2.iloc[:output_count][['병원이름', '주소', '거리']].apply(lambda row: f\"{row['병원이름']} - {row['주소'] } - {row['거리'] }\", axis=1)))\n",
        "\n",
        "    return df2"
      ],
      "metadata": {
        "id": "HAyk26O8bFQJ",
        "colab": {
          "base_uri": "https://localhost:8080/"
        },
        "outputId": "e3d1fe0c-4227-485c-8c0f-556722407808"
      },
      "execution_count": 5,
      "outputs": [
        {
          "output_type": "stream",
          "name": "stdout",
          "text": [
            "Overwriting /content/drive/MyDrive/project6_2/emergency.py\n"
          ]
        }
      ]
    }
  ]
}