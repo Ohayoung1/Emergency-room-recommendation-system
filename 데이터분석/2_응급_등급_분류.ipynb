{
  "cells": [
    {
      "cell_type": "markdown",
      "metadata": {
        "id": "4p06IPOk5xil"
      },
      "source": [
        "# **응급상황 자동 인식 및 응급실 연계 서비스**\n",
        "# 단계2 : 파인튜닝!"
      ]
    },
    {
      "cell_type": "markdown",
      "metadata": {
        "id": "6UhzGuDCupmr"
      },
      "source": [
        "## **0.미션**"
      ]
    },
    {
      "cell_type": "markdown",
      "metadata": {
        "id": "E3JyF0p7upms"
      },
      "source": [
        "### (1) 미션1\n",
        "단계 2에서는 사전 학습된 한국어 BERT 모델을 다운받아, 파인튜닝을 시도합니다. 이를 위해 먼저 적절한 데이터를 수집해야 합니다.\n",
        "\n",
        "* 학습 데이터 준비\n",
        "    * 등급별 50개씩 샘플 데이터를 제공합니다.\n",
        "    * **응급상황 등급(1~5) 별 최소 100건씩** 데이터를 추가로 수집(제작)하세요.\n",
        "        * 중증도 카테고리 파일에 있는 키워드 참조\n",
        "        * 제작시 GPT를 적극 활용해 봅시다.\n",
        "    * 총 데이터 크기 : 600건\n",
        "        * 제공데이터 100건(20건씩 5개 등급)\n",
        "        * 추가 제작 500건(100건씩 5개 등급)\n",
        "\n",
        "|text|label|\n",
        "|----|----|\n",
        "|GPT모델의 출력 형태. 응급상황 내용 | 응급등급(1~5)|\n",
        "\n"
      ]
    },
    {
      "cell_type": "markdown",
      "metadata": {
        "id": "hGGC3Ev4G9O8"
      },
      "source": [
        "### (2) 미션2\n",
        "미션1에서 준비한 학습데이터를 활용해서 파인튜닝을 시도합니다.\n",
        "\n",
        "* 사용할 모델 : **klue/bert-base**\n",
        "* 성능을 높이기 위해 조정할 만한 점(아래 수치는 가이드)\n",
        "    - 데이터 양 늘리기\n",
        "    - 하이퍼 파라미터\n",
        "        - epoch 수 : 5 ~ 20\n",
        "        - learning_rate : 1e-5 ~ 1e-2\n",
        "        - batch_size : 16 ~ 32\n",
        "        - weight_decay : 0.01 ~ 0.1"
      ]
    },
    {
      "cell_type": "markdown",
      "metadata": {
        "id": "dt6d8Aqo7Vsu"
      },
      "source": [
        "## 1.환경준비"
      ]
    },
    {
      "cell_type": "markdown",
      "metadata": {
        "id": "yfvvK98cpklr"
      },
      "source": [
        "* 세부 요구사항\n",
        "    - 경로 설정 : 구글콜랩\n",
        "        * 구글 드라이브 바로 밑에 project6 폴더를 만들고,\n",
        "        * 제공 받은 파일을 복사해 넣습니다.\n",
        "    - 기본적으로 필요한 라이브러리를 import 하도록 코드가 작성되어 있습니다.\n",
        "        * 필요하다고 판단되는 라이브러리를 추가하세요.\n"
      ]
    },
    {
      "cell_type": "markdown",
      "metadata": {
        "id": "1f2Na-pMIptJ"
      },
      "source": [
        "### (1) 라이브러리 설치 및 로딩"
      ]
    },
    {
      "cell_type": "code",
      "execution_count": 2,
      "metadata": {
        "id": "fAwELXTeI0dZ",
        "colab": {
          "base_uri": "https://localhost:8080/"
        },
        "outputId": "abc0365b-1505-49c8-8ff9-fec7ce926012"
      },
      "outputs": [
        {
          "output_type": "stream",
          "name": "stdout",
          "text": [
            "\u001b[?25l   \u001b[90m━━━━━━━━━━━━━━━━━━━━━━━━━━━━━━━━━━━━━━━━\u001b[0m \u001b[32m0.0/480.6 kB\u001b[0m \u001b[31m?\u001b[0m eta \u001b[36m-:--:--\u001b[0m\r\u001b[2K   \u001b[91m━━━━━━━━━━━━━━━━━━━━━━━━━━━━━━━━━━━━━━━\u001b[0m\u001b[90m╺\u001b[0m \u001b[32m471.0/480.6 kB\u001b[0m \u001b[31m75.1 MB/s\u001b[0m eta \u001b[36m0:00:01\u001b[0m\r\u001b[2K   \u001b[91m━━━━━━━━━━━━━━━━━━━━━━━━━━━━━━━━━━━━━━━\u001b[0m\u001b[90m╺\u001b[0m \u001b[32m471.0/480.6 kB\u001b[0m \u001b[31m75.1 MB/s\u001b[0m eta \u001b[36m0:00:01\u001b[0m\r\u001b[2K   \u001b[90m━━━━━━━━━━━━━━━━━━━━━━━━━━━━━━━━━━━━━━━━\u001b[0m \u001b[32m480.6/480.6 kB\u001b[0m \u001b[31m5.2 MB/s\u001b[0m eta \u001b[36m0:00:00\u001b[0m\n",
            "\u001b[?25h\u001b[?25l   \u001b[90m━━━━━━━━━━━━━━━━━━━━━━━━━━━━━━━━━━━━━━━━\u001b[0m \u001b[32m0.0/116.3 kB\u001b[0m \u001b[31m?\u001b[0m eta \u001b[36m-:--:--\u001b[0m\r\u001b[2K   \u001b[90m━━━━━━━━━━━━━━━━━━━━━━━━━━━━━━━━━━━━━━━━\u001b[0m \u001b[32m116.3/116.3 kB\u001b[0m \u001b[31m9.4 MB/s\u001b[0m eta \u001b[36m0:00:00\u001b[0m\n",
            "\u001b[?25h\u001b[?25l   \u001b[90m━━━━━━━━━━━━━━━━━━━━━━━━━━━━━━━━━━━━━━━━\u001b[0m \u001b[32m0.0/179.3 kB\u001b[0m \u001b[31m?\u001b[0m eta \u001b[36m-:--:--\u001b[0m\r\u001b[2K   \u001b[90m━━━━━━━━━━━━━━━━━━━━━━━━━━━━━━━━━━━━━━━━\u001b[0m \u001b[32m179.3/179.3 kB\u001b[0m \u001b[31m16.1 MB/s\u001b[0m eta \u001b[36m0:00:00\u001b[0m\n",
            "\u001b[2K   \u001b[90m━━━━━━━━━━━━━━━━━━━━━━━━━━━━━━━━━━━━━━━━\u001b[0m \u001b[32m134.8/134.8 kB\u001b[0m \u001b[31m9.4 MB/s\u001b[0m eta \u001b[36m0:00:00\u001b[0m\n",
            "\u001b[2K   \u001b[90m━━━━━━━━━━━━━━━━━━━━━━━━━━━━━━━━━━━━━━━━\u001b[0m \u001b[32m194.1/194.1 kB\u001b[0m \u001b[31m5.6 MB/s\u001b[0m eta \u001b[36m0:00:00\u001b[0m\n",
            "\u001b[?25h\u001b[31mERROR: pip's dependency resolver does not currently take into account all the packages that are installed. This behaviour is the source of the following dependency conflicts.\n",
            "gcsfs 2024.10.0 requires fsspec==2024.10.0, but you have fsspec 2024.9.0 which is incompatible.\u001b[0m\u001b[31m\n",
            "\u001b[0m"
          ]
        }
      ],
      "source": [
        "!pip install datasets -qq"
      ]
    },
    {
      "cell_type": "markdown",
      "metadata": {
        "id": "EGVwIaGDPd3P"
      },
      "source": [
        "* (필요 시) 설치 후 세션 다시 시작"
      ]
    },
    {
      "cell_type": "code",
      "execution_count": 3,
      "metadata": {
        "id": "10SRXstychw7"
      },
      "outputs": [],
      "source": [
        "import numpy as np\n",
        "import pandas as pd\n",
        "import matplotlib.pyplot as plt\n",
        "import seaborn as sns\n",
        "\n",
        "import torch\n",
        "\n",
        "from transformers import AutoTokenizer, AutoModelForSequenceClassification, Trainer, TrainingArguments, EarlyStoppingCallback\n",
        "from datasets import load_dataset, Dataset\n",
        "\n",
        "from sklearn.model_selection import train_test_split\n",
        "from sklearn.metrics import *\n",
        "\n",
        "from warnings import filterwarnings\n",
        "FutureWarning\n",
        "filterwarnings('ignore')"
      ]
    },
    {
      "cell_type": "markdown",
      "metadata": {
        "id": "vJ0l9LTQJQa6"
      },
      "source": [
        "* 함수 생성\n",
        "    * evaluate : 모델 생성후, 데이터셋(예 : 검증셋)을 이용해서 모델 성능을 평가하기 위한 용도\n",
        "    * predict :  하나의 문장을 입력받아, 예측결과를 반환"
      ]
    },
    {
      "cell_type": "code",
      "execution_count": 4,
      "metadata": {
        "id": "0yxBIUaic_Vt"
      },
      "outputs": [],
      "source": [
        "# 검증셋 평가 함수\n",
        "def evaluate(val_ds, model, device, tokenizer):\n",
        "    # 입력 데이터셋 토크나이징 (attention_mask 포함)\n",
        "    inputs = tokenizer(val_ds['text'], return_tensors=\"pt\", padding=True,\n",
        "                       truncation=True, max_length=128\n",
        "    )\n",
        "    inputs = {key: value.to(device) for key, value in inputs.items()}  # 입력 텐서를 동일한 디바이스로 이동\n",
        "\n",
        "    # 모델을 지정된 디바이스로 이동\n",
        "    model = model.to(device)\n",
        "\n",
        "    with torch.no_grad():  # 평가 과정에서 기울기 계산 비활성화\n",
        "        outputs = model(**inputs)  # attention_mask를 포함해 입력\n",
        "\n",
        "    # 예측 및 확률 계산\n",
        "    probabilities = outputs.logits.softmax(dim=1)\n",
        "\n",
        "    # probabilities가 GPU에 있을 경우에만 CPU로 이동\n",
        "    if probabilities.is_cuda:\n",
        "        probabilities = probabilities.cpu().detach().numpy()\n",
        "    else:\n",
        "        probabilities = probabilities.detach().numpy()\n",
        "\n",
        "    pred = np.argmax(probabilities, axis=1).tolist()\n",
        "\n",
        "    # GPU 메모리에서 필요 없는 텐서 제거 및 캐시 정리\n",
        "    del inputs\n",
        "    torch.cuda.empty_cache()\n",
        "\n",
        "    return pred, probabilities"
      ]
    },
    {
      "cell_type": "code",
      "execution_count": 5,
      "metadata": {
        "id": "-BMzvSF2mWG8"
      },
      "outputs": [],
      "source": [
        "# 데이터 예측 함수\n",
        "def predict(text, model, tokenizer):\n",
        "    # 입력 문장 토크나이징\n",
        "    inputs = tokenizer(text, return_tensors=\"pt\", truncation=True, padding=True)\n",
        "    inputs = {key: value.to('cuda') for key, value in inputs.items()}  # 각 텐서를 GPU로 이동\n",
        "\n",
        "    # 모델 예측\n",
        "    with torch.no_grad():\n",
        "        outputs = model(**inputs)\n",
        "\n",
        "    # 로짓을 소프트맥스로 변환하여 확률 계산\n",
        "    logits = outputs.logits\n",
        "    probabilities = logits.softmax(dim=1)\n",
        "\n",
        "    # 가장 높은 확률을 가진 클래스 선택\n",
        "    pred = torch.argmax(probabilities, dim=-1).item()\n",
        "\n",
        "    return pred, probabilities"
      ]
    },
    {
      "cell_type": "markdown",
      "metadata": {
        "id": "jrjpXSIqJQiw"
      },
      "source": [
        "### (2) 구글드라이브 연결"
      ]
    },
    {
      "cell_type": "code",
      "execution_count": 6,
      "metadata": {
        "id": "RJZ82z8mpZ8P",
        "colab": {
          "base_uri": "https://localhost:8080/"
        },
        "outputId": "6cdf5bfd-1455-488c-e276-b4f03b5af990"
      },
      "outputs": [
        {
          "output_type": "stream",
          "name": "stdout",
          "text": [
            "Mounted at /content/drive\n"
          ]
        }
      ],
      "source": [
        "from google.colab import drive\n",
        "drive.mount('/content/drive')"
      ]
    },
    {
      "cell_type": "code",
      "execution_count": 7,
      "metadata": {
        "id": "B0vAejN5pZ8P"
      },
      "outputs": [],
      "source": [
        "path = '/content/drive/MyDrive/AIVLE/프로젝트/6차/6-2/'"
      ]
    },
    {
      "cell_type": "markdown",
      "metadata": {
        "id": "R3rA2o9_JH35"
      },
      "source": [
        "### (3) 데이터 로딩\n",
        "* 이전 미션에서 준비한 데이터셋을 로딩합니다."
      ]
    },
    {
      "cell_type": "code",
      "execution_count": 109,
      "metadata": {
        "id": "gJSKqIGwjj_l"
      },
      "outputs": [],
      "source": [
        "data = pd.read_csv(path + 'data/dataset.csv')\n",
        "data_team = pd.read_csv(path + 'data/dataset_team.csv')\n",
        "data = pd.concat([data, data_team])"
      ]
    },
    {
      "cell_type": "markdown",
      "metadata": {
        "id": "PgllfIsmhzLO"
      },
      "source": [
        "* y 분포 확인하기"
      ]
    },
    {
      "cell_type": "code",
      "execution_count": 110,
      "metadata": {
        "id": "ms4-0WD-h2ep",
        "colab": {
          "base_uri": "https://localhost:8080/",
          "height": 449
        },
        "outputId": "8f31acc6-40a1-4517-9302-b4a8327a979b"
      },
      "outputs": [
        {
          "output_type": "display_data",
          "data": {
            "text/plain": [
              "<Figure size 640x480 with 1 Axes>"
            ],
            "image/png": "[encoded data removed]"
          },
          "metadata": {}
        }
      ],
      "source": [
        "sns.countplot(x='label', data = data, palette='Set2')\n",
        "plt.grid()\n",
        "plt.show()"
      ]
    },
    {
      "cell_type": "markdown",
      "metadata": {
        "id": "mBXDyiITimQP"
      },
      "source": [
        "* label 에 대한 정수 인코딩\n",
        "    * 정수 인코딩은 0 부터 시작해야 함."
      ]
    },
    {
      "cell_type": "code",
      "execution_count": 111,
      "metadata": {
        "id": "00bFJ0DCNlUw",
        "colab": {
          "base_uri": "https://localhost:8080/",
          "height": 206
        },
        "outputId": "0c84ca07-f129-4707-98ba-077143636de4"
      },
      "outputs": [
        {
          "output_type": "execute_result",
          "data": {
            "text/plain": [
              "                                                text  label\n",
              "0       환자가 심각한 호흡곤란으로 숨을 쉬기 어려워하며 피부가 푸르스름하게 변색된 상태      0\n",
              "1          환자가 얼굴이 창백하고 식은땀을 흘리며 맥박이 거의 잡히지 않는 쇼크 상태      0\n",
              "2  환자가 바닥에 쓰러져 의식을 잃었고, 주변의 소리에 반응하지 않으며, 몸이 움직이지...      0\n",
              "3                    환자가 심한 호흡곤란으로 숨을 쉬지 못해 곤란해하는 상태      0\n",
              "4           환자가 심각한 쇼크로 인해 혈압이 떨어지고 의식을 잃을 위험에 있는 상태      0"
            ],
            "text/html": [
              "\n",
              "  <div id=\"df-edf32cd8-536a-41b1-b627-1eb1f9efb556\" class=\"colab-df-container\">\n",
              "    <div>\n",
              "<style scoped>\n",
              "    .dataframe tbody tr th:only-of-type {\n",
              "        vertical-align: middle;\n",
              "    }\n",
              "\n",
              "    .dataframe tbody tr th {\n",
              "        vertical-align: top;\n",
              "    }\n",
              "\n",
              "    .dataframe thead th {\n",
              "        text-align: right;\n",
              "    }\n",
              "</style>\n",
              "<table border=\"1\" class=\"dataframe\">\n",
              "  <thead>\n",
              "    <tr style=\"text-align: right;\">\n",
              "      <th></th>\n",
              "      <th>text</th>\n",
              "      <th>label</th>\n",
              "    </tr>\n",
              "  </thead>\n",
              "  <tbody>\n",
              "    <tr>\n",
              "      <th>0</th>\n",
              "      <td>환자가 심각한 호흡곤란으로 숨을 쉬기 어려워하며 피부가 푸르스름하게 변색된 상태</td>\n",
              "      <td>0</td>\n",
              "    </tr>\n",
              "    <tr>\n",
              "      <th>1</th>\n",
              "      <td>환자가 얼굴이 창백하고 식은땀을 흘리며 맥박이 거의 잡히지 않는 쇼크 상태</td>\n",
              "      <td>0</td>\n",
              "    </tr>\n",
              "    <tr>\n",
              "      <th>2</th>\n",
              "      <td>환자가 바닥에 쓰러져 의식을 잃었고, 주변의 소리에 반응하지 않으며, 몸이 움직이지...</td>\n",
              "      <td>0</td>\n",
              "    </tr>\n",
              "    <tr>\n",
              "      <th>3</th>\n",
              "      <td>환자가 심한 호흡곤란으로 숨을 쉬지 못해 곤란해하는 상태</td>\n",
              "      <td>0</td>\n",
              "    </tr>\n",
              "    <tr>\n",
              "      <th>4</th>\n",
              "      <td>환자가 심각한 쇼크로 인해 혈압이 떨어지고 의식을 잃을 위험에 있는 상태</td>\n",
              "      <td>0</td>\n",
              "    </tr>\n",
              "  </tbody>\n",
              "</table>\n",
              "</div>\n",
              "    <div class=\"colab-df-buttons\">\n",
              "\n",
              "  <div class=\"colab-df-container\">\n",
              "    <button class=\"colab-df-convert\" onclick=\"convertToInteractive('df-edf32cd8-536a-41b1-b627-1eb1f9efb556')\"\n",
              "            title=\"Convert this dataframe to an interactive table.\"\n",
              "            style=\"display:none;\">\n",
              "\n",
              "  <svg xmlns=\"http://www.w3.org/2000/svg\" height=\"24px\" viewBox=\"0 -960 960 960\">\n",
              "    <path d=\"M120-120v-720h720v720H120Zm60-500h600v-160H180v160Zm220 220h160v-160H400v160Zm0 220h160v-160H400v160ZM180-400h160v-160H180v160Zm440 0h160v-160H620v160ZM180-180h160v-160H180v160Zm440 0h160v-160H620v160Z\"/>\n",
              "  </svg>\n",
              "    </button>\n",
              "\n",
              "  <style>\n",
              "    .colab-df-container {\n",
              "      display:flex;\n",
              "      gap: 12px;\n",
              "    }\n",
              "\n",
              "    .colab-df-convert {\n",
              "      background-color: #E8F0FE;\n",
              "      border: none;\n",
              "      border-radius: 50%;\n",
              "      cursor: pointer;\n",
              "      display: none;\n",
              "      fill: #1967D2;\n",
              "      height: 32px;\n",
              "      padding: 0 0 0 0;\n",
              "      width: 32px;\n",
              "    }\n",
              "\n",
              "    .colab-df-convert:hover {\n",
              "      background-color: #E2EBFA;\n",
              "      box-shadow: 0px 1px 2px rgba(60, 64, 67, 0.3), 0px 1px 3px 1px rgba(60, 64, 67, 0.15);\n",
              "      fill: #174EA6;\n",
              "    }\n",
              "\n",
              "    .colab-df-buttons div {\n",
              "      margin-bottom: 4px;\n",
              "    }\n",
              "\n",
              "    [theme=dark] .colab-df-convert {\n",
              "      background-color: #3B4455;\n",
              "      fill: #D2E3FC;\n",
              "    }\n",
              "\n",
              "    [theme=dark] .colab-df-convert:hover {\n",
              "      background-color: #434B5C;\n",
              "      box-shadow: 0px 1px 3px 1px rgba(0, 0, 0, 0.15);\n",
              "      filter: drop-shadow(0px 1px 2px rgba(0, 0, 0, 0.3));\n",
              "      fill: #FFFFFF;\n",
              "    }\n",
              "  </style>\n",
              "\n",
              "    <script>\n",
              "      const buttonEl =\n",
              "        document.querySelector('#df-edf32cd8-536a-41b1-b627-1eb1f9efb556 button.colab-df-convert');\n",
              "      buttonEl.style.display =\n",
              "        google.colab.kernel.accessAllowed ? 'block' : 'none';\n",
              "\n",
              "      async function convertToInteractive(key) {\n",
              "        const element = document.querySelector('#df-edf32cd8-536a-41b1-b627-1eb1f9efb556');\n",
              "        const dataTable =\n",
              "          await google.colab.kernel.invokeFunction('convertToInteractive',\n",
              "                                                    [key], {});\n",
              "        if (!dataTable) return;\n",
              "\n",
              "        const docLinkHtml = 'Like what you see? Visit the ' +\n",
              "          '<a target=\"_blank\" href=https://colab.research.google.com/notebooks/data_table.ipynb>data table notebook</a>'\n",
              "          + ' to learn more about interactive tables.';\n",
              "        element.innerHTML = '';\n",
              "        dataTable['output_type'] = 'display_data';\n",
              "        await google.colab.output.renderOutput(dataTable, element);\n",
              "        const docLink = document.createElement('div');\n",
              "        docLink.innerHTML = docLinkHtml;\n",
              "        element.appendChild(docLink);\n",
              "      }\n",
              "    </script>\n",
              "  </div>\n",
              "\n",
              "\n",
              "<div id=\"df-3aed634d-61d6-4779-a9bd-94ee0f8b9195\">\n",
              "  <button class=\"colab-df-quickchart\" onclick=\"quickchart('df-3aed634d-61d6-4779-a9bd-94ee0f8b9195')\"\n",
              "            title=\"Suggest charts\"\n",
              "            style=\"display:none;\">\n",
              "\n",
              "<svg xmlns=\"http://www.w3.org/2000/svg\" height=\"24px\"viewBox=\"0 0 24 24\"\n",
              "     width=\"24px\">\n",
              "    <g>\n",
              "        <path d=\"M19 3H5c-1.1 0-2 .9-2 2v14c0 1.1.9 2 2 2h14c1.1 0 2-.9 2-2V5c0-1.1-.9-2-2-2zM9 17H7v-7h2v7zm4 0h-2V7h2v10zm4 0h-2v-4h2v4z\"/>\n",
              "    </g>\n",
              "</svg>\n",
              "  </button>\n",
              "\n",
              "<style>\n",
              "  .colab-df-quickchart {\n",
              "      --bg-color: #E8F0FE;\n",
              "      --fill-color: #1967D2;\n",
              "      --hover-bg-color: #E2EBFA;\n",
              "      --hover-fill-color: #174EA6;\n",
              "      --disabled-fill-color: #AAA;\n",
              "      --disabled-bg-color: #DDD;\n",
              "  }\n",
              "\n",
              "  [theme=dark] .colab-df-quickchart {\n",
              "      --bg-color: #3B4455;\n",
              "      --fill-color: #D2E3FC;\n",
              "      --hover-bg-color: #434B5C;\n",
              "      --hover-fill-color: #FFFFFF;\n",
              "      --disabled-bg-color: #3B4455;\n",
              "      --disabled-fill-color: #666;\n",
              "  }\n",
              "\n",
              "  .colab-df-quickchart {\n",
              "    background-color: var(--bg-color);\n",
              "    border: none;\n",
              "    border-radius: 50%;\n",
              "    cursor: pointer;\n",
              "    display: none;\n",
              "    fill: var(--fill-color);\n",
              "    height: 32px;\n",
              "    padding: 0;\n",
              "    width: 32px;\n",
              "  }\n",
              "\n",
              "  .colab-df-quickchart:hover {\n",
              "    background-color: var(--hover-bg-color);\n",
              "    box-shadow: 0 1px 2px rgba(60, 64, 67, 0.3), 0 1px 3px 1px rgba(60, 64, 67, 0.15);\n",
              "    fill: var(--button-hover-fill-color);\n",
              "  }\n",
              "\n",
              "  .colab-df-quickchart-complete:disabled,\n",
              "  .colab-df-quickchart-complete:disabled:hover {\n",
              "    background-color: var(--disabled-bg-color);\n",
              "    fill: var(--disabled-fill-color);\n",
              "    box-shadow: none;\n",
              "  }\n",
              "\n",
              "  .colab-df-spinner {\n",
              "    border: 2px solid var(--fill-color);\n",
              "    border-color: transparent;\n",
              "    border-bottom-color: var(--fill-color);\n",
              "    animation:\n",
              "      spin 1s steps(1) infinite;\n",
              "  }\n",
              "\n",
              "  @keyframes spin {\n",
              "    0% {\n",
              "      border-color: transparent;\n",
              "      border-bottom-color: var(--fill-color);\n",
              "      border-left-color: var(--fill-color);\n",
              "    }\n",
              "    20% {\n",
              "      border-color: transparent;\n",
              "      border-left-color: var(--fill-color);\n",
              "      border-top-color: var(--fill-color);\n",
              "    }\n",
              "    30% {\n",
              "      border-color: transparent;\n",
              "      border-left-color: var(--fill-color);\n",
              "      border-top-color: var(--fill-color);\n",
              "      border-right-color: var(--fill-color);\n",
              "    }\n",
              "    40% {\n",
              "      border-color: transparent;\n",
              "      border-right-color: var(--fill-color);\n",
              "      border-top-color: var(--fill-color);\n",
              "    }\n",
              "    60% {\n",
              "      border-color: transparent;\n",
              "      border-right-color: var(--fill-color);\n",
              "    }\n",
              "    80% {\n",
              "      border-color: transparent;\n",
              "      border-right-color: var(--fill-color);\n",
              "      border-bottom-color: var(--fill-color);\n",
              "    }\n",
              "    90% {\n",
              "      border-color: transparent;\n",
              "      border-bottom-color: var(--fill-color);\n",
              "    }\n",
              "  }\n",
              "</style>\n",
              "\n",
              "  <script>\n",
              "    async function quickchart(key) {\n",
              "      const quickchartButtonEl =\n",
              "        document.querySelector('#' + key + ' button');\n",
              "      quickchartButtonEl.disabled = true;  // To prevent multiple clicks.\n",
              "      quickchartButtonEl.classList.add('colab-df-spinner');\n",
              "      try {\n",
              "        const charts = await google.colab.kernel.invokeFunction(\n",
              "            'suggestCharts', [key], {});\n",
              "      } catch (error) {\n",
              "        console.error('Error during call to suggestCharts:', error);\n",
              "      }\n",
              "      quickchartButtonEl.classList.remove('colab-df-spinner');\n",
              "      quickchartButtonEl.classList.add('colab-df-quickchart-complete');\n",
              "    }\n",
              "    (() => {\n",
              "      let quickchartButtonEl =\n",
              "        document.querySelector('#df-3aed634d-61d6-4779-a9bd-94ee0f8b9195 button');\n",
              "      quickchartButtonEl.style.display =\n",
              "        google.colab.kernel.accessAllowed ? 'block' : 'none';\n",
              "    })();\n",
              "  </script>\n",
              "</div>\n",
              "\n",
              "    </div>\n",
              "  </div>\n"
            ],
            "application/vnd.google.colaboratory.intrinsic+json": {
              "type": "dataframe",
              "variable_name": "data",
              "summary": "{\n  \"name\": \"data\",\n  \"rows\": 700,\n  \"fields\": [\n    {\n      \"column\": \"text\",\n      \"properties\": {\n        \"dtype\": \"string\",\n        \"num_unique_values\": 555,\n        \"samples\": [\n          \"\\uae09\\uc131 \\ub9d0\\ucd08\\uc131 \\uacbd\\uc99d \\ud1b5\\uc99d(3 \\uc774\\ud558)\\uc744 \\uacaa\\ub294 \\ud658\\uc790\\ub294 \\uc77c\\uc2dc\\uc801\\uc778 \\ubd88\\ud3b8\\ud568\\uc744 \\ub290\\ub07c\\uace0 \\uc788\\uc2b5\\ub2c8\\ub2e4.\",\n          \"\\uc758\\uc2dd\\uc774 \\ud750\\ub824\\uc9c0\\uba74\\uc11c \\ud63c\\uc790\\uc11c \\uc790\\ud574\\uc758 \\uc704\\ud5d8\\uc774 \\uc788\\ub294 \\ud658\\uc790.\",\n          \"\\uace0\\ud608\\uc555(\\uc218\\ucd95\\uae30\\ud608\\uc555 200-220 \\ubc0f \\uc774\\uc644\\uae30\\ud608\\uc555 110-130) \\uace0\\ud608\\uc555 \\uc99d\\uc0c1\\uc774 \\ub3d9\\ubc18\\ub41c \\ud658\\uc790\\ub294 \\uc9c0\\uc18d\\uc801\\uc778 \\ubaa8\\ub2c8\\ud130\\ub9c1\\uc774 \\ud544\\uc694\\ud569\\ub2c8\\ub2e4.\"\n        ],\n        \"semantic_type\": \"\",\n        \"description\": \"\"\n      }\n    },\n    {\n      \"column\": \"label\",\n      \"properties\": {\n        \"dtype\": \"number\",\n        \"std\": 1,\n        \"min\": 0,\n        \"max\": 4,\n        \"num_unique_values\": 5,\n        \"samples\": [\n          1,\n          4,\n          2\n        ],\n        \"semantic_type\": \"\",\n        \"description\": \"\"\n      }\n    }\n  ]\n}"
            }
          },
          "metadata": {},
          "execution_count": 111
        }
      ],
      "source": [
        "from sklearn.preprocessing import LabelEncoder\n",
        "le = LabelEncoder()\n",
        "data['label'] = le.fit_transform(data['label'])\n",
        "data.head()"
      ]
    },
    {
      "cell_type": "markdown",
      "metadata": {
        "id": "kWP4SWAfK1J8"
      },
      "source": [
        "### (4) GPU 설정\n",
        "* 파이토치를 위한 설정"
      ]
    },
    {
      "cell_type": "code",
      "execution_count": 112,
      "metadata": {
        "id": "tWugkO6FK3qD",
        "colab": {
          "base_uri": "https://localhost:8080/"
        },
        "outputId": "92877775-1ad2-4de9-953e-c2cdbb1cd918"
      },
      "outputs": [
        {
          "output_type": "execute_result",
          "data": {
            "text/plain": [
              "device(type='cuda')"
            ]
          },
          "metadata": {},
          "execution_count": 112
        }
      ],
      "source": [
        "# GPU 설정\n",
        "device = torch.device(\"cuda\" if torch.cuda.is_available() else \"cpu\")\n",
        "device"
      ]
    },
    {
      "cell_type": "markdown",
      "metadata": {
        "id": "bDFim9_47fGX"
      },
      "source": [
        "## 2.데이터 준비"
      ]
    },
    {
      "cell_type": "markdown",
      "metadata": {
        "id": "5HbtLQ5nLkAG"
      },
      "source": [
        "### (1) Dataset 만들기 : train, val"
      ]
    },
    {
      "cell_type": "code",
      "execution_count": 113,
      "metadata": {
        "id": "lDTUpdJJLpb4"
      },
      "outputs": [],
      "source": [
        "# 데이터셋 분할\n",
        "train, val = train_test_split(data, test_size=0.2, random_state=42)"
      ]
    },
    {
      "cell_type": "code",
      "execution_count": 114,
      "metadata": {
        "id": "imOymSXtLjXJ"
      },
      "outputs": [],
      "source": [
        "# 텐서 데이터셋으로 변환\n",
        "train_ds = Dataset.from_pandas(train)\n",
        "val_ds = Dataset.from_pandas(val)"
      ]
    },
    {
      "cell_type": "markdown",
      "metadata": {
        "id": "o2g6VD1O7qA6"
      },
      "source": [
        "### (2) 토큰화\n",
        "\n",
        "* 사용할 모델(\"klue/bert-base\")의 토크나이저를 저장"
      ]
    },
    {
      "cell_type": "code",
      "execution_count": 115,
      "metadata": {
        "id": "WXHiqVHdK6fN"
      },
      "outputs": [],
      "source": [
        "# 모델과 토크나이저 불러오기\n",
        "model_name = \"klue/bert-base\"\n",
        "tokenizer = AutoTokenizer.from_pretrained(model_name)"
      ]
    },
    {
      "cell_type": "code",
      "execution_count": 116,
      "metadata": {
        "id": "vmpoI7iBLCk1",
        "colab": {
          "base_uri": "https://localhost:8080/",
          "height": 81,
          "referenced_widgets": [
            "66ef026ad0a642c6a9b2c14f556406c4",
            "38f9ab296c3942b9b48f8bf95b5d7566",
            "4693251a32864601908dc10767f75869",
            "ac5bdb8bb0a44768b7434c5d18594fb6",
            "4a278080851347d6b25a24e5a888de2a",
            "d199c5d8009640b39ca4026414508822",
            "c20d04352e7e4ddf8dbe28bee811051e",
            "6dbaaa4e68fc4ff5a60495565d64f8d2",
            "09fb0a665e59417395d2d61326f0f93f",
            "422b0098a7304602af96480d67a2550b",
            "99966904cc204b0dbabcb9607d18e105",
            "67fbb6fd290045809f28bb9926f0be0a",
            "5cf67f13808c47e89c4e213c992a9e84",
            "fb230faa6e5a4d209732638feda1c20c",
            "8d89c9b9676a4ea8a5544e0538b44b65",
            "55408a5a41464850bfd9c4b234298eba",
            "123cba46f729471c8953181b00791cd4",
            "ea257c6ca6d346e59da8a6d5b5bb6055",
            "40f602c8dd9a49a49cd29873f5132711",
            "4e44a5b54dbd4640be520c8b9dd3cef4",
            "0215a9db6cca4e71bfe3e1048800362c",
            "812e428e0f2b4fdaaed14f927184c8af"
          ]
        },
        "outputId": "a6bbcfc9-26ed-4f03-e2c5-35d497a0f4b5"
      },
      "outputs": [
        {
          "output_type": "display_data",
          "data": {
            "text/plain": [
              "Map:   0%|          | 0/560 [00:00<?, ? examples/s]"
            ],
            "application/vnd.jupyter.widget-view+json": {
              "version_major": 2,
              "version_minor": 0,
              "model_id": "66ef026ad0a642c6a9b2c14f556406c4"
            }
          },
          "metadata": {}
        },
        {
          "output_type": "display_data",
          "data": {
            "text/plain": [
              "Map:   0%|          | 0/140 [00:00<?, ? examples/s]"
            ],
            "application/vnd.jupyter.widget-view+json": {
              "version_major": 2,
              "version_minor": 0,
              "model_id": "67fbb6fd290045809f28bb9926f0be0a"
            }
          },
          "metadata": {}
        }
      ],
      "source": [
        "# 토큰화 함수 생성 및 적용\n",
        "def preprocess_function(data):\n",
        "    return tokenizer(data['text'], truncation=True, padding=True)\n",
        "\n",
        "train_ds = train_ds.map(preprocess_function, batched=True)\n",
        "val_ds = val_ds.map(preprocess_function, batched=True)"
      ]
    },
    {
      "cell_type": "markdown",
      "metadata": {
        "id": "xXcuja2rMUsO"
      },
      "source": [
        "## 3.Fine-Tuning"
      ]
    },
    {
      "cell_type": "markdown",
      "metadata": {
        "id": "NhsuEjXcMSoi"
      },
      "source": [
        "### (1) 사전학습 모델 준비\n",
        "* 사용할 모델(\"klue/bert-base\")의 토크나이저를 저장\n",
        "* 이때, 출력층 노드 수를 지정합니다."
      ]
    },
    {
      "cell_type": "code",
      "execution_count": 117,
      "metadata": {
        "id": "oujW5VFb7gux",
        "colab": {
          "base_uri": "https://localhost:8080/"
        },
        "outputId": "bc9911ff-4dc6-475b-b6c6-8c60c809bcfb"
      },
      "outputs": [
        {
          "output_type": "stream",
          "name": "stderr",
          "text": [
            "Some weights of BertForSequenceClassification were not initialized from the model checkpoint at klue/bert-base and are newly initialized: ['classifier.bias', 'classifier.weight']\n",
            "You should probably TRAIN this model on a down-stream task to be able to use it for predictions and inference.\n"
          ]
        }
      ],
      "source": [
        "# 모델 설정 (다중 분류를 위해 num_labels 지정)\n",
        "n = 5\n",
        "model = AutoModelForSequenceClassification.from_pretrained(model_name, num_labels = n).to(device)"
      ]
    },
    {
      "cell_type": "markdown",
      "metadata": {
        "id": "SNAuKwuWMoGr"
      },
      "source": [
        "### (2) 학습\n",
        "* 절차\n",
        "    * TrainArguments 설정\n",
        "        * 조정할 하이퍼파라미터 : learning_rate, batch_size, epochs, weight_decay 등\n",
        "        * 나머지 옵션은 손 대지 맙시다.\n",
        "    * Trainer 설정\n",
        "    * 학습\n",
        "* 성능 : 데이터, 하이퍼파라미터에 의해 결정"
      ]
    },
    {
      "cell_type": "code",
      "execution_count": 119,
      "metadata": {
        "id": "tAi9MA_iHOma"
      },
      "outputs": [],
      "source": [
        "# TrainingArguments\n",
        "\n",
        "lr = 2e-5\n",
        "batch_size = 32\n",
        "epochs = 20\n",
        "\n",
        "training_args = TrainingArguments(\n",
        "    output_dir = './results',          # 출력 디렉토리\n",
        "    eval_strategy = \"epoch\",            # 에폭마다 평가\n",
        "    save_strategy = \"epoch\",           # 에폭마다 체크포인트 저장\n",
        "    learning_rate = lr,\n",
        "    per_device_train_batch_size = batch_size,\n",
        "    per_device_eval_batch_size = batch_size,\n",
        "    num_train_epochs  = epochs,\n",
        "    weight_decay = 0.01,               # <--[조정가능]weight decay\n",
        "    load_best_model_at_end = True,     # 가장 좋은 모델을 마지막에 로드\n",
        "    logging_dir ='./logs',            # 로깅 디렉토리\n",
        "    logging_steps = 10,                # 로깅 스텝\n",
        "    report_to=\"tensorboard\"          # TensorBoard에 로깅\n",
        ")"
      ]
    },
    {
      "cell_type": "code",
      "execution_count": 122,
      "metadata": {
        "id": "K6Tcims1J_Bb"
      },
      "outputs": [],
      "source": [
        "# Trainer 설정\n",
        "patience = 7\n",
        "\n",
        "trainer = Trainer(\n",
        "    model=model,                         # 학습할 모델\n",
        "    args=training_args,                  # TrainingArguments\n",
        "    train_dataset = train_ds,\n",
        "    eval_dataset = val_ds,\n",
        "    tokenizer=tokenizer,\n",
        "    callbacks=[EarlyStoppingCallback(early_stopping_patience=patience)], # 조기 종료\n",
        ")"
      ]
    },
    {
      "cell_type": "code",
      "execution_count": 123,
      "metadata": {
        "id": "q-6soUikMp5y",
        "colab": {
          "base_uri": "https://localhost:8080/",
          "height": 677
        },
        "outputId": "4219d845-5807-4e59-f9b1-5d2f63499022"
      },
      "outputs": [
        {
          "output_type": "display_data",
          "data": {
            "text/plain": [
              "<IPython.core.display.HTML object>"
            ],
            "text/html": [
              "\n",
              "    <div>\n",
              "      \n",
              "      <progress value='324' max='360' style='width:300px; height:20px; vertical-align: middle;'></progress>\n",
              "      [324/360 07:35 < 00:50, 0.71 it/s, Epoch 18/20]\n",
              "    </div>\n",
              "    <table border=\"1\" class=\"dataframe\">\n",
              "  <thead>\n",
              " <tr style=\"text-align: left;\">\n",
              "      <th>Epoch</th>\n",
              "      <th>Training Loss</th>\n",
              "      <th>Validation Loss</th>\n",
              "    </tr>\n",
              "  </thead>\n",
              "  <tbody>\n",
              "    <tr>\n",
              "      <td>1</td>\n",
              "      <td>0.147200</td>\n",
              "      <td>0.220505</td>\n",
              "    </tr>\n",
              "    <tr>\n",
              "      <td>2</td>\n",
              "      <td>0.057900</td>\n",
              "      <td>0.144011</td>\n",
              "    </tr>\n",
              "    <tr>\n",
              "      <td>3</td>\n",
              "      <td>0.029600</td>\n",
              "      <td>0.135459</td>\n",
              "    </tr>\n",
              "    <tr>\n",
              "      <td>4</td>\n",
              "      <td>0.013400</td>\n",
              "      <td>0.101820</td>\n",
              "    </tr>\n",
              "    <tr>\n",
              "      <td>5</td>\n",
              "      <td>0.024100</td>\n",
              "      <td>0.109756</td>\n",
              "    </tr>\n",
              "    <tr>\n",
              "      <td>6</td>\n",
              "      <td>0.015700</td>\n",
              "      <td>0.121780</td>\n",
              "    </tr>\n",
              "    <tr>\n",
              "      <td>7</td>\n",
              "      <td>0.004000</td>\n",
              "      <td>0.089946</td>\n",
              "    </tr>\n",
              "    <tr>\n",
              "      <td>8</td>\n",
              "      <td>0.014500</td>\n",
              "      <td>0.104888</td>\n",
              "    </tr>\n",
              "    <tr>\n",
              "      <td>9</td>\n",
              "      <td>0.002400</td>\n",
              "      <td>0.084773</td>\n",
              "    </tr>\n",
              "    <tr>\n",
              "      <td>10</td>\n",
              "      <td>0.002100</td>\n",
              "      <td>0.081965</td>\n",
              "    </tr>\n",
              "    <tr>\n",
              "      <td>11</td>\n",
              "      <td>0.002000</td>\n",
              "      <td>0.080880</td>\n",
              "    </tr>\n",
              "    <tr>\n",
              "      <td>12</td>\n",
              "      <td>0.001800</td>\n",
              "      <td>0.085296</td>\n",
              "    </tr>\n",
              "    <tr>\n",
              "      <td>13</td>\n",
              "      <td>0.001800</td>\n",
              "      <td>0.086774</td>\n",
              "    </tr>\n",
              "    <tr>\n",
              "      <td>14</td>\n",
              "      <td>0.001400</td>\n",
              "      <td>0.089273</td>\n",
              "    </tr>\n",
              "    <tr>\n",
              "      <td>15</td>\n",
              "      <td>0.001400</td>\n",
              "      <td>0.089227</td>\n",
              "    </tr>\n",
              "    <tr>\n",
              "      <td>16</td>\n",
              "      <td>0.001400</td>\n",
              "      <td>0.087984</td>\n",
              "    </tr>\n",
              "    <tr>\n",
              "      <td>17</td>\n",
              "      <td>0.001300</td>\n",
              "      <td>0.087637</td>\n",
              "    </tr>\n",
              "    <tr>\n",
              "      <td>18</td>\n",
              "      <td>0.001300</td>\n",
              "      <td>0.087703</td>\n",
              "    </tr>\n",
              "  </tbody>\n",
              "</table><p>"
            ]
          },
          "metadata": {}
        },
        {
          "output_type": "execute_result",
          "data": {
            "text/plain": [
              "TrainOutput(global_step=324, training_loss=0.016978027307669872, metrics={'train_runtime': 455.5529, 'train_samples_per_second': 24.586, 'train_steps_per_second': 0.79, 'total_flos': 181304845041600.0, 'train_loss': 0.016978027307669872, 'epoch': 18.0})"
            ]
          },
          "metadata": {},
          "execution_count": 123
        }
      ],
      "source": [
        "# 모델 학습\n",
        "trainer.train()"
      ]
    },
    {
      "cell_type": "code",
      "execution_count": 124,
      "metadata": {
        "id": "z9itVKStpl3W",
        "colab": {
          "base_uri": "https://localhost:8080/",
          "height": 56
        },
        "outputId": "a43d21b5-d9ef-4e7e-dac3-4c7fd38c5caa"
      },
      "outputs": [
        {
          "output_type": "display_data",
          "data": {
            "text/plain": [
              "<IPython.core.display.HTML object>"
            ],
            "text/html": [
              "\n",
              "    <div>\n",
              "      \n",
              "      <progress value='5' max='5' style='width:300px; height:20px; vertical-align: middle;'></progress>\n",
              "      [5/5 00:00]\n",
              "    </div>\n",
              "    "
            ]
          },
          "metadata": {}
        },
        {
          "output_type": "stream",
          "name": "stdout",
          "text": [
            "Evaluation results: {'eval_loss': 0.08088023960590363, 'eval_runtime': 0.3094, 'eval_samples_per_second': 452.431, 'eval_steps_per_second': 16.158, 'epoch': 18.0}\n"
          ]
        }
      ],
      "source": [
        "# 모델 평가\n",
        "eval_results = trainer.evaluate()\n",
        "print(f\"Evaluation results: {eval_results}\")"
      ]
    },
    {
      "cell_type": "markdown",
      "metadata": {
        "id": "ix-b6Taw3EvG"
      },
      "source": [
        "### (3) 모델 검증평가\n",
        "* evaluate 함수를 이용해서 검증셋에 대한 성능 평가를 수행합니다."
      ]
    },
    {
      "cell_type": "code",
      "execution_count": 125,
      "metadata": {
        "id": "a--b8NWuPwOA"
      },
      "outputs": [],
      "source": [
        "pred, prob = evaluate(val_ds, model, device, tokenizer)"
      ]
    },
    {
      "cell_type": "code",
      "execution_count": 126,
      "metadata": {
        "id": "CUifn3RflQdV",
        "colab": {
          "base_uri": "https://localhost:8080/"
        },
        "outputId": "247913d9-7b7f-4dcf-c1e6-f8f27bef48c1"
      },
      "outputs": [
        {
          "output_type": "stream",
          "name": "stdout",
          "text": [
            "[[28  0  0  0  0]\n",
            " [ 0 30  0  0  0]\n",
            " [ 0  0 28  0  0]\n",
            " [ 0  0  0 28  2]\n",
            " [ 0  0  0  1 23]]\n",
            "              precision    recall  f1-score   support\n",
            "\n",
            "           1       1.00      1.00      1.00        28\n",
            "           2       1.00      1.00      1.00        30\n",
            "           3       1.00      1.00      1.00        28\n",
            "           4       0.97      0.93      0.95        30\n",
            "           5       0.92      0.96      0.94        24\n",
            "\n",
            "    accuracy                           0.98       140\n",
            "   macro avg       0.98      0.98      0.98       140\n",
            "weighted avg       0.98      0.98      0.98       140\n",
            "\n"
          ]
        }
      ],
      "source": [
        "print(confusion_matrix(val_ds['label'], pred))\n",
        "print(classification_report(val_ds['label'], pred, target_names=[str(cls) for cls in le.classes_]))"
      ]
    },
    {
      "cell_type": "markdown",
      "metadata": {
        "id": "iQ_s6MWHNHEl"
      },
      "source": [
        "### (4) 모델 사용\n",
        "* 응급상황에 대한 샘플 문자을 넣고 등급을 적절히 분류하는지 눈으로 확인해 봅시다."
      ]
    },
    {
      "cell_type": "code",
      "execution_count": 127,
      "metadata": {
        "id": "96Yg3gFWGVni",
        "colab": {
          "base_uri": "https://localhost:8080/"
        },
        "outputId": "76f6dcbb-35c9-402e-db93-70e706000908"
      },
      "outputs": [
        {
          "output_type": "stream",
          "name": "stdout",
          "text": [
            "예측된 클래스: 3\n",
            "예측된 클래스 이름: [4]\n",
            "클래스별 확률: tensor([[0.3973, 0.0853, 0.0628, 0.3986, 0.0560]], device='cuda:0')\n"
          ]
        }
      ],
      "source": [
        "text = \"배아파요\"\n",
        "predicted_class, probabilities = predict(text, model, tokenizer)\n",
        "\n",
        "print(f\"예측된 클래스: {predicted_class}\")\n",
        "print(f\"예측된 클래스 이름: {le.inverse_transform([predicted_class])}\")\n",
        "print(f\"클래스별 확률: {probabilities}\")"
      ]
    },
    {
      "cell_type": "markdown",
      "metadata": {
        "id": "y8FEhy5rUBsX"
      },
      "source": [
        "## 4.모델 저장"
      ]
    },
    {
      "cell_type": "markdown",
      "metadata": {
        "id": "mGU1b-yzUGmi"
      },
      "source": [
        "### (1) 모델 저장\n",
        "* save_pretrained 메서드를 사용해 모델과 토크나이저를 디렉토리에 저장합니다.\n",
        "* 저장 대상 : 모델, 토크나이저"
      ]
    },
    {
      "cell_type": "code",
      "execution_count": 128,
      "metadata": {
        "id": "EQuXh6i3UDBL",
        "colab": {
          "base_uri": "https://localhost:8080/"
        },
        "outputId": "e19e56aa-ad11-40e4-cfb2-5e4419fb103a"
      },
      "outputs": [
        {
          "output_type": "execute_result",
          "data": {
            "text/plain": [
              "('/content/drive/MyDrive/AIVLE/프로젝트/6차/6-2/fine_tuned_bert/tokenizer_config.json',\n",
              " '/content/drive/MyDrive/AIVLE/프로젝트/6차/6-2/fine_tuned_bert/special_tokens_map.json',\n",
              " '/content/drive/MyDrive/AIVLE/프로젝트/6차/6-2/fine_tuned_bert/vocab.txt',\n",
              " '/content/drive/MyDrive/AIVLE/프로젝트/6차/6-2/fine_tuned_bert/added_tokens.json',\n",
              " '/content/drive/MyDrive/AIVLE/프로젝트/6차/6-2/fine_tuned_bert/tokenizer.json')"
            ]
          },
          "metadata": {},
          "execution_count": 128
        }
      ],
      "source": [
        "# 모델과 토크나이저 저장 경로 : 폴더가 없으면, fine_tuned_bert를 생성\n",
        "save_directory = path + \"fine_tuned_bert\"\n",
        "\n",
        "# 모델 저장\n",
        "model.save_pretrained(save_directory)\n",
        "\n",
        "# 토크나이저도 함께 저장\n",
        "tokenizer.save_pretrained(save_directory)"
      ]
    },
    {
      "cell_type": "markdown",
      "metadata": {
        "id": "inceXKa-UYnH"
      },
      "source": [
        "### (2) 모델 로딩 및 사용\n",
        "* 저장한 모델을 나중에 다시 불러와 예측이나 추가 작업에 사용할 수 있습니다. Hugging Face from_pretrained 메서드를 사용하여 저장 경로에서 모델과 토크나이저를 로드합니다.\n",
        "* 로딩 대상 : 모델, 토크나이저"
      ]
    },
    {
      "cell_type": "code",
      "execution_count": 129,
      "metadata": {
        "id": "4ECAESD3UYnI"
      },
      "outputs": [],
      "source": [
        "# 모델 로드\n",
        "model2 = AutoModelForSequenceClassification.from_pretrained(save_directory).to('cuda')\n",
        "\n",
        "# 토크나이저 로드\n",
        "tokenizer2 = AutoTokenizer.from_pretrained(save_directory)"
      ]
    },
    {
      "cell_type": "code",
      "execution_count": 130,
      "metadata": {
        "id": "e-maRgSLUh86",
        "colab": {
          "base_uri": "https://localhost:8080/"
        },
        "outputId": "08c25867-80d8-4e2c-be6f-fc40318a2d05"
      },
      "outputs": [
        {
          "output_type": "stream",
          "name": "stdout",
          "text": [
            "예측된 클래스: 0\n",
            "예측된 클래스 이름: 1등급\n",
            "클래스별 확률: tensor([[9.9329e-01, 1.7107e-03, 2.9215e-03, 1.3574e-03, 7.1673e-04]],\n",
            "       device='cuda:0')\n"
          ]
        }
      ],
      "source": [
        "text = \"넘어졌는데, 지금 출혈이 있고, 머리가 어지럽습니다.\"\n",
        "predicted_class, probabilities = predict(text, model2, tokenizer2)\n",
        "\n",
        "print(f\"예측된 클래스: {predicted_class}\")\n",
        "print(f\"예측된 클래스 이름: {predicted_class+1}등급\")\n",
        "print(f\"클래스별 확률: {probabilities}\")"
      ]
    },
    {
      "cell_type": "markdown",
      "metadata": {
        "id": "Au2NrBcQgkuE"
      },
      "source": [
        "## **Mission Complete!**\n",
        "\n",
        "수고 많았습니다!"
      ]
    }
  ],
  "metadata": {
    "accelerator": "GPU",
    "colab": {
      "gpuType": "T4",
      "provenance": [],
      "toc_visible": true
    },
    "kernelspec": {
      "display_name": "Python 3",
      "name": "python3"
    },
    "language_info": {
      "name": "python"
    },
    "widgets": {
      "application/vnd.jupyter.widget-state+json": {
        "66ef026ad0a642c6a9b2c14f556406c4": {
          "model_module": "@jupyter-widgets/controls",
          "model_name": "HBoxModel",
          "model_module_version": "1.5.0",
          "state": {
            "_dom_classes": [],
            "_model_module": "@jupyter-widgets/controls",
            "_model_module_version": "1.5.0",
            "_model_name": "HBoxModel",
            "_view_count": null,
            "_view_module": "@jupyter-widgets/controls",
            "_view_module_version": "1.5.0",
            "_view_name": "HBoxView",
            "box_style": "",
            "children": [
              "IPY_MODEL_38f9ab296c3942b9b48f8bf95b5d7566",
              "IPY_MODEL_4693251a32864601908dc10767f75869",
              "IPY_MODEL_ac5bdb8bb0a44768b7434c5d18594fb6"
            ],
            "layout": "IPY_MODEL_4a278080851347d6b25a24e5a888de2a"
          }
        },
        "38f9ab296c3942b9b48f8bf95b5d7566": {
          "model_module": "@jupyter-widgets/controls",
          "model_name": "HTMLModel",
          "model_module_version": "1.5.0",
          "state": {
            "_dom_classes": [],
            "_model_module": "@jupyter-widgets/controls",
            "_model_module_version": "1.5.0",
            "_model_name": "HTMLModel",
            "_view_count": null,
            "_view_module": "@jupyter-widgets/controls",
            "_view_module_version": "1.5.0",
            "_view_name": "HTMLView",
            "description": "",
            "description_tooltip": null,
            "layout": "IPY_MODEL_d199c5d8009640b39ca4026414508822",
            "placeholder": "​",
            "style": "IPY_MODEL_c20d04352e7e4ddf8dbe28bee811051e",
            "value": "Map: 100%"
          }
        },
        "4693251a32864601908dc10767f75869": {
          "model_module": "@jupyter-widgets/controls",
          "model_name": "FloatProgressModel",
          "model_module_version": "1.5.0",
          "state": {
            "_dom_classes": [],
            "_model_module": "@jupyter-widgets/controls",
            "_model_module_version": "1.5.0",
            "_model_name": "FloatProgressModel",
            "_view_count": null,
            "_view_module": "@jupyter-widgets/controls",
            "_view_module_version": "1.5.0",
            "_view_name": "ProgressView",
            "bar_style": "success",
            "description": "",
            "description_tooltip": null,
            "layout": "IPY_MODEL_6dbaaa4e68fc4ff5a60495565d64f8d2",
            "max": 560,
            "min": 0,
            "orientation": "horizontal",
            "style": "IPY_MODEL_09fb0a665e59417395d2d61326f0f93f",
            "value": 560
          }
        },
        "ac5bdb8bb0a44768b7434c5d18594fb6": {
          "model_module": "@jupyter-widgets/controls",
          "model_name": "HTMLModel",
          "model_module_version": "1.5.0",
          "state": {
            "_dom_classes": [],
            "_model_module": "@jupyter-widgets/controls",
            "_model_module_version": "1.5.0",
            "_model_name": "HTMLModel",
            "_view_count": null,
            "_view_module": "@jupyter-widgets/controls",
            "_view_module_version": "1.5.0",
            "_view_name": "HTMLView",
            "description": "",
            "description_tooltip": null,
            "layout": "IPY_MODEL_422b0098a7304602af96480d67a2550b",
            "placeholder": "​",
            "style": "IPY_MODEL_99966904cc204b0dbabcb9607d18e105",
            "value": " 560/560 [00:00&lt;00:00, 8057.20 examples/s]"
          }
        },
        "4a278080851347d6b25a24e5a888de2a": {
          "model_module": "@jupyter-widgets/base",
          "model_name": "LayoutModel",
          "model_module_version": "1.2.0",
          "state": {
            "_model_module": "@jupyter-widgets/base",
            "_model_module_version": "1.2.0",
            "_model_name": "LayoutModel",
            "_view_count": null,
            "_view_module": "@jupyter-widgets/base",
            "_view_module_version": "1.2.0",
            "_view_name": "LayoutView",
            "align_content": null,
            "align_items": null,
            "align_self": null,
            "border": null,
            "bottom": null,
            "display": null,
            "flex": null,
            "flex_flow": null,
            "grid_area": null,
            "grid_auto_columns": null,
            "grid_auto_flow": null,
            "grid_auto_rows": null,
            "grid_column": null,
            "grid_gap": null,
            "grid_row": null,
            "grid_template_areas": null,
            "grid_template_columns": null,
            "grid_template_rows": null,
            "height": null,
            "justify_content": null,
            "justify_items": null,
            "left": null,
            "margin": null,
            "max_height": null,
            "max_width": null,
            "min_height": null,
            "min_width": null,
            "object_fit": null,
            "object_position": null,
            "order": null,
            "overflow": null,
            "overflow_x": null,
            "overflow_y": null,
            "padding": null,
            "right": null,
            "top": null,
            "visibility": null,
            "width": null
          }
        },
        "d199c5d8009640b39ca4026414508822": {
          "model_module": "@jupyter-widgets/base",
          "model_name": "LayoutModel",
          "model_module_version": "1.2.0",
          "state": {
            "_model_module": "@jupyter-widgets/base",
            "_model_module_version": "1.2.0",
            "_model_name": "LayoutModel",
            "_view_count": null,
            "_view_module": "@jupyter-widgets/base",
            "_view_module_version": "1.2.0",
            "_view_name": "LayoutView",
            "align_content": null,
            "align_items": null,
            "align_self": null,
            "border": null,
            "bottom": null,
            "display": null,
            "flex": null,
            "flex_flow": null,
            "grid_area": null,
            "grid_auto_columns": null,
            "grid_auto_flow": null,
            "grid_auto_rows": null,
            "grid_column": null,
            "grid_gap": null,
            "grid_row": null,
            "grid_template_areas": null,
            "grid_template_columns": null,
            "grid_template_rows": null,
            "height": null,
            "justify_content": null,
            "justify_items": null,
            "left": null,
            "margin": null,
            "max_height": null,
            "max_width": null,
            "min_height": null,
            "min_width": null,
            "object_fit": null,
            "object_position": null,
            "order": null,
            "overflow": null,
            "overflow_x": null,
            "overflow_y": null,
            "padding": null,
            "right": null,
            "top": null,
            "visibility": null,
            "width": null
          }
        },
        "c20d04352e7e4ddf8dbe28bee811051e": {
          "model_module": "@jupyter-widgets/controls",
          "model_name": "DescriptionStyleModel",
          "model_module_version": "1.5.0",
          "state": {
            "_model_module": "@jupyter-widgets/controls",
            "_model_module_version": "1.5.0",
            "_model_name": "DescriptionStyleModel",
            "_view_count": null,
            "_view_module": "@jupyter-widgets/base",
            "_view_module_version": "1.2.0",
            "_view_name": "StyleView",
            "description_width": ""
          }
        },
        "6dbaaa4e68fc4ff5a60495565d64f8d2": {
          "model_module": "@jupyter-widgets/base",
          "model_name": "LayoutModel",
          "model_module_version": "1.2.0",
          "state": {
            "_model_module": "@jupyter-widgets/base",
            "_model_module_version": "1.2.0",
            "_model_name": "LayoutModel",
            "_view_count": null,
            "_view_module": "@jupyter-widgets/base",
            "_view_module_version": "1.2.0",
            "_view_name": "LayoutView",
            "align_content": null,
            "align_items": null,
            "align_self": null,
            "border": null,
            "bottom": null,
            "display": null,
            "flex": null,
            "flex_flow": null,
            "grid_area": null,
            "grid_auto_columns": null,
            "grid_auto_flow": null,
            "grid_auto_rows": null,
            "grid_column": null,
            "grid_gap": null,
            "grid_row": null,
            "grid_template_areas": null,
            "grid_template_columns": null,
            "grid_template_rows": null,
            "height": null,
            "justify_content": null,
            "justify_items": null,
            "left": null,
            "margin": null,
            "max_height": null,
            "max_width": null,
            "min_height": null,
            "min_width": null,
            "object_fit": null,
            "object_position": null,
            "order": null,
            "overflow": null,
            "overflow_x": null,
            "overflow_y": null,
            "padding": null,
            "right": null,
            "top": null,
            "visibility": null,
            "width": null
          }
        },
        "09fb0a665e59417395d2d61326f0f93f": {
          "model_module": "@jupyter-widgets/controls",
          "model_name": "ProgressStyleModel",
          "model_module_version": "1.5.0",
          "state": {
            "_model_module": "@jupyter-widgets/controls",
            "_model_module_version": "1.5.0",
            "_model_name": "ProgressStyleModel",
            "_view_count": null,
            "_view_module": "@jupyter-widgets/base",
            "_view_module_version": "1.2.0",
            "_view_name": "StyleView",
            "bar_color": null,
            "description_width": ""
          }
        },
        "422b0098a7304602af96480d67a2550b": {
          "model_module": "@jupyter-widgets/base",
          "model_name": "LayoutModel",
          "model_module_version": "1.2.0",
          "state": {
            "_model_module": "@jupyter-widgets/base",
            "_model_module_version": "1.2.0",
            "_model_name": "LayoutModel",
            "_view_count": null,
            "_view_module": "@jupyter-widgets/base",
            "_view_module_version": "1.2.0",
            "_view_name": "LayoutView",
            "align_content": null,
            "align_items": null,
            "align_self": null,
            "border": null,
            "bottom": null,
            "display": null,
            "flex": null,
            "flex_flow": null,
            "grid_area": null,
            "grid_auto_columns": null,
            "grid_auto_flow": null,
            "grid_auto_rows": null,
            "grid_column": null,
            "grid_gap": null,
            "grid_row": null,
            "grid_template_areas": null,
            "grid_template_columns": null,
            "grid_template_rows": null,
            "height": null,
            "justify_content": null,
            "justify_items": null,
            "left": null,
            "margin": null,
            "max_height": null,
            "max_width": null,
            "min_height": null,
            "min_width": null,
            "object_fit": null,
            "object_position": null,
            "order": null,
            "overflow": null,
            "overflow_x": null,
            "overflow_y": null,
            "padding": null,
            "right": null,
            "top": null,
            "visibility": null,
            "width": null
          }
        },
        "99966904cc204b0dbabcb9607d18e105": {
          "model_module": "@jupyter-widgets/controls",
          "model_name": "DescriptionStyleModel",
          "model_module_version": "1.5.0",
          "state": {
            "_model_module": "@jupyter-widgets/controls",
            "_model_module_version": "1.5.0",
            "_model_name": "DescriptionStyleModel",
            "_view_count": null,
            "_view_module": "@jupyter-widgets/base",
            "_view_module_version": "1.2.0",
            "_view_name": "StyleView",
            "description_width": ""
          }
        },
        "67fbb6fd290045809f28bb9926f0be0a": {
          "model_module": "@jupyter-widgets/controls",
          "model_name": "HBoxModel",
          "model_module_version": "1.5.0",
          "state": {
            "_dom_classes": [],
            "_model_module": "@jupyter-widgets/controls",
            "_model_module_version": "1.5.0",
            "_model_name": "HBoxModel",
            "_view_count": null,
            "_view_module": "@jupyter-widgets/controls",
            "_view_module_version": "1.5.0",
            "_view_name": "HBoxView",
            "box_style": "",
            "children": [
              "IPY_MODEL_5cf67f13808c47e89c4e213c992a9e84",
              "IPY_MODEL_fb230faa6e5a4d209732638feda1c20c",
              "IPY_MODEL_8d89c9b9676a4ea8a5544e0538b44b65"
            ],
            "layout": "IPY_MODEL_55408a5a41464850bfd9c4b234298eba"
          }
        },
        "5cf67f13808c47e89c4e213c992a9e84": {
          "model_module": "@jupyter-widgets/controls",
          "model_name": "HTMLModel",
          "model_module_version": "1.5.0",
          "state": {
            "_dom_classes": [],
            "_model_module": "@jupyter-widgets/controls",
            "_model_module_version": "1.5.0",
            "_model_name": "HTMLModel",
            "_view_count": null,
            "_view_module": "@jupyter-widgets/controls",
            "_view_module_version": "1.5.0",
            "_view_name": "HTMLView",
            "description": "",
            "description_tooltip": null,
            "layout": "IPY_MODEL_123cba46f729471c8953181b00791cd4",
            "placeholder": "​",
            "style": "IPY_MODEL_ea257c6ca6d346e59da8a6d5b5bb6055",
            "value": "Map: 100%"
          }
        },
        "fb230faa6e5a4d209732638feda1c20c": {
          "model_module": "@jupyter-widgets/controls",
          "model_name": "FloatProgressModel",
          "model_module_version": "1.5.0",
          "state": {
            "_dom_classes": [],
            "_model_module": "@jupyter-widgets/controls",
            "_model_module_version": "1.5.0",
            "_model_name": "FloatProgressModel",
            "_view_count": null,
            "_view_module": "@jupyter-widgets/controls",
            "_view_module_version": "1.5.0",
            "_view_name": "ProgressView",
            "bar_style": "success",
            "description": "",
            "description_tooltip": null,
            "layout": "IPY_MODEL_40f602c8dd9a49a49cd29873f5132711",
            "max": 140,
            "min": 0,
            "orientation": "horizontal",
            "style": "IPY_MODEL_4e44a5b54dbd4640be520c8b9dd3cef4",
            "value": 140
          }
        },
        "8d89c9b9676a4ea8a5544e0538b44b65": {
          "model_module": "@jupyter-widgets/controls",
          "model_name": "HTMLModel",
          "model_module_version": "1.5.0",
          "state": {
            "_dom_classes": [],
            "_model_module": "@jupyter-widgets/controls",
            "_model_module_version": "1.5.0",
            "_model_name": "HTMLModel",
            "_view_count": null,
            "_view_module": "@jupyter-widgets/controls",
            "_view_module_version": "1.5.0",
            "_view_name": "HTMLView",
            "description": "",
            "description_tooltip": null,
            "layout": "IPY_MODEL_0215a9db6cca4e71bfe3e1048800362c",
            "placeholder": "​",
            "style": "IPY_MODEL_812e428e0f2b4fdaaed14f927184c8af",
            "value": " 140/140 [00:00&lt;00:00, 3567.02 examples/s]"
          }
        },
        "55408a5a41464850bfd9c4b234298eba": {
          "model_module": "@jupyter-widgets/base",
          "model_name": "LayoutModel",
          "model_module_version": "1.2.0",
          "state": {
            "_model_module": "@jupyter-widgets/base",
            "_model_module_version": "1.2.0",
            "_model_name": "LayoutModel",
            "_view_count": null,
            "_view_module": "@jupyter-widgets/base",
            "_view_module_version": "1.2.0",
            "_view_name": "LayoutView",
            "align_content": null,
            "align_items": null,
            "align_self": null,
            "border": null,
            "bottom": null,
            "display": null,
            "flex": null,
            "flex_flow": null,
            "grid_area": null,
            "grid_auto_columns": null,
            "grid_auto_flow": null,
            "grid_auto_rows": null,
            "grid_column": null,
            "grid_gap": null,
            "grid_row": null,
            "grid_template_areas": null,
            "grid_template_columns": null,
            "grid_template_rows": null,
            "height": null,
            "justify_content": null,
            "justify_items": null,
            "left": null,
            "margin": null,
            "max_height": null,
            "max_width": null,
            "min_height": null,
            "min_width": null,
            "object_fit": null,
            "object_position": null,
            "order": null,
            "overflow": null,
            "overflow_x": null,
            "overflow_y": null,
            "padding": null,
            "right": null,
            "top": null,
            "visibility": null,
            "width": null
          }
        },
        "123cba46f729471c8953181b00791cd4": {
          "model_module": "@jupyter-widgets/base",
          "model_name": "LayoutModel",
          "model_module_version": "1.2.0",
          "state": {
            "_model_module": "@jupyter-widgets/base",
            "_model_module_version": "1.2.0",
            "_model_name": "LayoutModel",
            "_view_count": null,
            "_view_module": "@jupyter-widgets/base",
            "_view_module_version": "1.2.0",
            "_view_name": "LayoutView",
            "align_content": null,
            "align_items": null,
            "align_self": null,
            "border": null,
            "bottom": null,
            "display": null,
            "flex": null,
            "flex_flow": null,
            "grid_area": null,
            "grid_auto_columns": null,
            "grid_auto_flow": null,
            "grid_auto_rows": null,
            "grid_column": null,
            "grid_gap": null,
            "grid_row": null,
            "grid_template_areas": null,
            "grid_template_columns": null,
            "grid_template_rows": null,
            "height": null,
            "justify_content": null,
            "justify_items": null,
            "left": null,
            "margin": null,
            "max_height": null,
            "max_width": null,
            "min_height": null,
            "min_width": null,
            "object_fit": null,
            "object_position": null,
            "order": null,
            "overflow": null,
            "overflow_x": null,
            "overflow_y": null,
            "padding": null,
            "right": null,
            "top": null,
            "visibility": null,
            "width": null
          }
        },
        "ea257c6ca6d346e59da8a6d5b5bb6055": {
          "model_module": "@jupyter-widgets/controls",
          "model_name": "DescriptionStyleModel",
          "model_module_version": "1.5.0",
          "state": {
            "_model_module": "@jupyter-widgets/controls",
            "_model_module_version": "1.5.0",
            "_model_name": "DescriptionStyleModel",
            "_view_count": null,
            "_view_module": "@jupyter-widgets/base",
            "_view_module_version": "1.2.0",
            "_view_name": "StyleView",
            "description_width": ""
          }
        },
        "40f602c8dd9a49a49cd29873f5132711": {
          "model_module": "@jupyter-widgets/base",
          "model_name": "LayoutModel",
          "model_module_version": "1.2.0",
          "state": {
            "_model_module": "@jupyter-widgets/base",
            "_model_module_version": "1.2.0",
            "_model_name": "LayoutModel",
            "_view_count": null,
            "_view_module": "@jupyter-widgets/base",
            "_view_module_version": "1.2.0",
            "_view_name": "LayoutView",
            "align_content": null,
            "align_items": null,
            "align_self": null,
            "border": null,
            "bottom": null,
            "display": null,
            "flex": null,
            "flex_flow": null,
            "grid_area": null,
            "grid_auto_columns": null,
            "grid_auto_flow": null,
            "grid_auto_rows": null,
            "grid_column": null,
            "grid_gap": null,
            "grid_row": null,
            "grid_template_areas": null,
            "grid_template_columns": null,
            "grid_template_rows": null,
            "height": null,
            "justify_content": null,
            "justify_items": null,
            "left": null,
            "margin": null,
            "max_height": null,
            "max_width": null,
            "min_height": null,
            "min_width": null,
            "object_fit": null,
            "object_position": null,
            "order": null,
            "overflow": null,
            "overflow_x": null,
            "overflow_y": null,
            "padding": null,
            "right": null,
            "top": null,
            "visibility": null,
            "width": null
          }
        },
        "4e44a5b54dbd4640be520c8b9dd3cef4": {
          "model_module": "@jupyter-widgets/controls",
          "model_name": "ProgressStyleModel",
          "model_module_version": "1.5.0",
          "state": {
            "_model_module": "@jupyter-widgets/controls",
            "_model_module_version": "1.5.0",
            "_model_name": "ProgressStyleModel",
            "_view_count": null,
            "_view_module": "@jupyter-widgets/base",
            "_view_module_version": "1.2.0",
            "_view_name": "StyleView",
            "bar_color": null,
            "description_width": ""
          }
        },
        "0215a9db6cca4e71bfe3e1048800362c": {
          "model_module": "@jupyter-widgets/base",
          "model_name": "LayoutModel",
          "model_module_version": "1.2.0",
          "state": {
            "_model_module": "@jupyter-widgets/base",
            "_model_module_version": "1.2.0",
            "_model_name": "LayoutModel",
            "_view_count": null,
            "_view_module": "@jupyter-widgets/base",
            "_view_module_version": "1.2.0",
            "_view_name": "LayoutView",
            "align_content": null,
            "align_items": null,
            "align_self": null,
            "border": null,
            "bottom": null,
            "display": null,
            "flex": null,
            "flex_flow": null,
            "grid_area": null,
            "grid_auto_columns": null,
            "grid_auto_flow": null,
            "grid_auto_rows": null,
            "grid_column": null,
            "grid_gap": null,
            "grid_row": null,
            "grid_template_areas": null,
            "grid_template_columns": null,
            "grid_template_rows": null,
            "height": null,
            "justify_content": null,
            "justify_items": null,
            "left": null,
            "margin": null,
            "max_height": null,
            "max_width": null,
            "min_height": null,
            "min_width": null,
            "object_fit": null,
            "object_position": null,
            "order": null,
            "overflow": null,
            "overflow_x": null,
            "overflow_y": null,
            "padding": null,
            "right": null,
            "top": null,
            "visibility": null,
            "width": null
          }
        },
        "812e428e0f2b4fdaaed14f927184c8af": {
          "model_module": "@jupyter-widgets/controls",
          "model_name": "DescriptionStyleModel",
          "model_module_version": "1.5.0",
          "state": {
            "_model_module": "@jupyter-widgets/controls",
            "_model_module_version": "1.5.0",
            "_model_name": "DescriptionStyleModel",
            "_view_count": null,
            "_view_module": "@jupyter-widgets/base",
            "_view_module_version": "1.2.0",
            "_view_name": "StyleView",
            "description_width": ""
          }
        }
      }
    }
  },
  "nbformat": 4,
  "nbformat_minor": 0
}